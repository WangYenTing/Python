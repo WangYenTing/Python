{
 "cells": [
  {
   "cell_type": "code",
   "execution_count": 1,
   "metadata": {
    "collapsed": true
   },
   "outputs": [],
   "source": [
    "import matplotlib.pyplot as plt\n",
    "import numpy as np\n",
    "import pandas as pd"
   ]
  },
  {
   "cell_type": "code",
   "execution_count": 2,
   "metadata": {
    "collapsed": true
   },
   "outputs": [],
   "source": [
    "#臺中市政府警察局106年11月份交通事故資料\n",
    "url_10611 = 'https://quality.data.gov.tw/dq_download_csv.php?nid=72293&md5_url=27099e7b514bec2a041fd8d0194fbd69'\n",
    "\n",
    "#臺中市政府警察局106年10月份交通事故資料\n",
    "url_10610 = 'https://quality.data.gov.tw/dq_download_csv.php?nid=59792&md5_url=351eb4516b664646e487f4b7ff5d6671'"
   ]
  },
  {
   "cell_type": "code",
   "execution_count": 3,
   "metadata": {
    "collapsed": true
   },
   "outputs": [],
   "source": [
    "# 使用pandas讀取網路連結檔案\n",
    "df_10611 = pd.read_csv(url_10611)\n",
    "df_10610 = pd.read_csv(url_10610)\n",
    "\n",
    "# 使用pandas 存檔\n",
    "#df_10611.to_csv('交通事故10611.csv')\n",
    "#df_10610.to_csv('交通事故10610.csv')"
   ]
  },
  {
   "cell_type": "markdown",
   "metadata": {},
   "source": [
    "## 連接資料庫"
   ]
  },
  {
   "cell_type": "code",
   "execution_count": 4,
   "metadata": {
    "collapsed": true
   },
   "outputs": [],
   "source": [
    "# 資料庫連接\n",
    "# CHARSET=UTF8; 和 cn.setencoding(encoding='utf-8') 都要設定\n",
    "\n",
    "import pyodbc\n",
    "cn = pyodbc.connect(\"DRIVER={MySQL ODBC 8.0 ANSI Driver}; SERVER=localhost; PORT=3306;DATABASE=taichung; UID=root; PASSWORD=123456;OPTION=3;CHARSET=UTF8;\") \n",
    "cn.setencoding(encoding='utf-8')\n",
    "cursor = cn.cursor()"
   ]
  },
  {
   "cell_type": "code",
   "execution_count": 5,
   "metadata": {},
   "outputs": [
    {
     "data": {
      "text/plain": [
       "[('pls', ), ('qtable', ), ('tc', )]"
      ]
     },
     "execution_count": 5,
     "metadata": {},
     "output_type": "execute_result"
    }
   ],
   "source": [
    "cursor.execute(\"use taichung;\")\n",
    "cursor.execute(\"show tables;\")\n",
    "cursor.fetchall()"
   ]
  },
  {
   "cell_type": "code",
   "execution_count": 9,
   "metadata": {},
   "outputs": [
    {
     "data": {
      "text/html": [
       "<div>\n",
       "<style>\n",
       "    .dataframe thead tr:only-child th {\n",
       "        text-align: right;\n",
       "    }\n",
       "\n",
       "    .dataframe thead th {\n",
       "        text-align: left;\n",
       "    }\n",
       "\n",
       "    .dataframe tbody tr th {\n",
       "        vertical-align: top;\n",
       "    }\n",
       "</style>\n",
       "<table border=\"1\" class=\"dataframe\">\n",
       "  <thead>\n",
       "    <tr style=\"text-align: right;\">\n",
       "      <th></th>\n",
       "      <th>年</th>\n",
       "      <th>月</th>\n",
       "      <th>日</th>\n",
       "      <th>時</th>\n",
       "      <th>分</th>\n",
       "      <th>縣市</th>\n",
       "      <th>區</th>\n",
       "      <th>死</th>\n",
       "      <th>受傷</th>\n",
       "      <th>2-30</th>\n",
       "      <th>...</th>\n",
       "      <th>車輛撞擊部位最初</th>\n",
       "      <th>車輛撞擊部位其他</th>\n",
       "      <th>肇事因素個別</th>\n",
       "      <th>肇事因素主要</th>\n",
       "      <th>肇事逃逸</th>\n",
       "      <th>職業</th>\n",
       "      <th>旅次目的</th>\n",
       "      <th>車種</th>\n",
       "      <th>GPS座標X</th>\n",
       "      <th>GPS座標Y</th>\n",
       "    </tr>\n",
       "  </thead>\n",
       "  <tbody>\n",
       "    <tr>\n",
       "      <th>0</th>\n",
       "      <td>2017</td>\n",
       "      <td>11</td>\n",
       "      <td>1</td>\n",
       "      <td>0</td>\n",
       "      <td>7</td>\n",
       "      <td>臺中市</td>\n",
       "      <td>霧峰區</td>\n",
       "      <td>0.0</td>\n",
       "      <td>0.0</td>\n",
       "      <td>0.0</td>\n",
       "      <td>...</td>\n",
       "      <td>8</td>\n",
       "      <td></td>\n",
       "      <td>21</td>\n",
       "      <td>21</td>\n",
       "      <td>1</td>\n",
       "      <td>4</td>\n",
       "      <td>8</td>\n",
       "      <td>B03</td>\n",
       "      <td>24.073801</td>\n",
       "      <td>120.663218</td>\n",
       "    </tr>\n",
       "    <tr>\n",
       "      <th>1</th>\n",
       "      <td>2017</td>\n",
       "      <td>11</td>\n",
       "      <td>1</td>\n",
       "      <td>0</td>\n",
       "      <td>17</td>\n",
       "      <td>臺中市</td>\n",
       "      <td>潭子區</td>\n",
       "      <td>NaN</td>\n",
       "      <td>NaN</td>\n",
       "      <td>NaN</td>\n",
       "      <td>...</td>\n",
       "      <td>NaN</td>\n",
       "      <td>NaN</td>\n",
       "      <td>13</td>\n",
       "      <td>NaN</td>\n",
       "      <td>1</td>\n",
       "      <td>22</td>\n",
       "      <td>NaN</td>\n",
       "      <td>B03</td>\n",
       "      <td>24.201317</td>\n",
       "      <td>120.703163</td>\n",
       "    </tr>\n",
       "  </tbody>\n",
       "</table>\n",
       "<p>2 rows × 49 columns</p>\n",
       "</div>"
      ],
      "text/plain": [
       "      年   月  日  時   分   縣市    區    死   受傷  2-30     ...      車輛撞擊部位最初  \\\n",
       "0  2017  11  1  0   7  臺中市  霧峰區  0.0  0.0   0.0     ...             8   \n",
       "1  2017  11  1  0  17  臺中市  潭子區  NaN  NaN   NaN     ...           NaN   \n",
       "\n",
       "   車輛撞擊部位其他  肇事因素個別 肇事因素主要  肇事逃逸  職業  旅次目的   車種     GPS座標X      GPS座標Y  \n",
       "0                21     21     1   4     8  B03  24.073801  120.663218  \n",
       "1       NaN      13    NaN     1  22   NaN  B03  24.201317  120.703163  \n",
       "\n",
       "[2 rows x 49 columns]"
      ]
     },
     "execution_count": 9,
     "metadata": {},
     "output_type": "execute_result"
    }
   ],
   "source": [
    "####### 小資料試用 ######### \n",
    "df1 = df_10611[:2]\n",
    "df1"
   ]
  },
  {
   "cell_type": "code",
   "execution_count": 10,
   "metadata": {},
   "outputs": [
    {
     "data": {
      "text/html": [
       "<div>\n",
       "<style>\n",
       "    .dataframe thead tr:only-child th {\n",
       "        text-align: right;\n",
       "    }\n",
       "\n",
       "    .dataframe thead th {\n",
       "        text-align: left;\n",
       "    }\n",
       "\n",
       "    .dataframe tbody tr th {\n",
       "        vertical-align: top;\n",
       "    }\n",
       "</style>\n",
       "<table border=\"1\" class=\"dataframe\">\n",
       "  <thead>\n",
       "    <tr style=\"text-align: right;\">\n",
       "      <th></th>\n",
       "      <th>年</th>\n",
       "      <th>月</th>\n",
       "      <th>日</th>\n",
       "      <th>時</th>\n",
       "      <th>分</th>\n",
       "      <th>縣市</th>\n",
       "      <th>區</th>\n",
       "      <th>死</th>\n",
       "      <th>受傷</th>\n",
       "      <th>2_30</th>\n",
       "      <th>...</th>\n",
       "      <th>車輛撞擊部位最初</th>\n",
       "      <th>車輛撞擊部位其他</th>\n",
       "      <th>肇事因素個別</th>\n",
       "      <th>肇事因素主要</th>\n",
       "      <th>肇事逃逸</th>\n",
       "      <th>職業</th>\n",
       "      <th>旅次目的</th>\n",
       "      <th>車種</th>\n",
       "      <th>GPS座標X</th>\n",
       "      <th>GPS座標Y</th>\n",
       "    </tr>\n",
       "  </thead>\n",
       "  <tbody>\n",
       "    <tr>\n",
       "      <th>0</th>\n",
       "      <td>2017</td>\n",
       "      <td>11</td>\n",
       "      <td>1</td>\n",
       "      <td>0</td>\n",
       "      <td>7</td>\n",
       "      <td>臺中市</td>\n",
       "      <td>霧峰區</td>\n",
       "      <td>0.0</td>\n",
       "      <td>0.0</td>\n",
       "      <td>0.0</td>\n",
       "      <td>...</td>\n",
       "      <td>8</td>\n",
       "      <td></td>\n",
       "      <td>21</td>\n",
       "      <td>21</td>\n",
       "      <td>1</td>\n",
       "      <td>4</td>\n",
       "      <td>8</td>\n",
       "      <td>B03</td>\n",
       "      <td>24.073801</td>\n",
       "      <td>120.663218</td>\n",
       "    </tr>\n",
       "    <tr>\n",
       "      <th>1</th>\n",
       "      <td>2017</td>\n",
       "      <td>11</td>\n",
       "      <td>1</td>\n",
       "      <td>0</td>\n",
       "      <td>17</td>\n",
       "      <td>臺中市</td>\n",
       "      <td>潭子區</td>\n",
       "      <td>NaN</td>\n",
       "      <td>NaN</td>\n",
       "      <td>NaN</td>\n",
       "      <td>...</td>\n",
       "      <td>NaN</td>\n",
       "      <td>NaN</td>\n",
       "      <td>13</td>\n",
       "      <td>NaN</td>\n",
       "      <td>1</td>\n",
       "      <td>22</td>\n",
       "      <td>NaN</td>\n",
       "      <td>B03</td>\n",
       "      <td>24.201317</td>\n",
       "      <td>120.703163</td>\n",
       "    </tr>\n",
       "  </tbody>\n",
       "</table>\n",
       "<p>2 rows × 49 columns</p>\n",
       "</div>"
      ],
      "text/plain": [
       "      年   月  日  時   分   縣市    區    死   受傷  2_30     ...      車輛撞擊部位最初  \\\n",
       "0  2017  11  1  0   7  臺中市  霧峰區  0.0  0.0   0.0     ...             8   \n",
       "1  2017  11  1  0  17  臺中市  潭子區  NaN  NaN   NaN     ...           NaN   \n",
       "\n",
       "   車輛撞擊部位其他  肇事因素個別 肇事因素主要  肇事逃逸  職業  旅次目的   車種     GPS座標X      GPS座標Y  \n",
       "0                21     21     1   4     8  B03  24.073801  120.663218  \n",
       "1       NaN      13    NaN     1  22   NaN  B03  24.201317  120.703163  \n",
       "\n",
       "[2 rows x 49 columns]"
      ]
     },
     "execution_count": 10,
     "metadata": {},
     "output_type": "execute_result"
    }
   ],
   "source": [
    "# 欄位更名、 NaN 更名(似乎內建式空的 無用)\n",
    "df1 = df1.rename(columns={'2-30': '2_30', '當事者區分(類別)':'當事者區分_類別'})\n",
    "df1 = df1.replace('nan', 'NULL')\n",
    "df1"
   ]
  },
  {
   "cell_type": "code",
   "execution_count": 11,
   "metadata": {},
   "outputs": [
    {
     "name": "stdout",
     "output_type": "stream",
     "text": [
      "create table taichung_201711(\n",
      "年 int NULL,\n",
      "月 int NULL,\n",
      "日 int NULL,\n",
      "時 int NULL,\n",
      "分 int NULL,\n",
      "縣市 varchar(20) NULL,\n",
      "區 varchar(20) NULL,\n",
      "死 float NULL,\n",
      "受傷 float NULL,\n",
      "2_30 float NULL,\n",
      "天候 float NULL,\n",
      "光線 float NULL,\n",
      "道路類別 float NULL,\n",
      "速限 varchar(20) NULL,\n",
      "道路型態 float NULL,\n",
      "事故位置 float NULL,\n",
      "路面鋪裝 float NULL,\n",
      "路面狀態 float NULL,\n",
      "路面缺陷 float NULL,\n",
      "障礙物 float NULL,\n",
      "視距 float NULL,\n",
      "號誌種類 float NULL,\n",
      "號誌動作 float NULL,\n",
      "分向設施 float NULL,\n",
      "快車道或一般車道間 float NULL,\n",
      "快慢車道間 float NULL,\n",
      "路面邊線 float NULL,\n",
      "事故類型及型態 float NULL,\n",
      "主要肇因 float NULL,\n",
      "受傷程度 varchar(20) NULL,\n",
      "主要傷處 varchar(20) NULL,\n",
      "保護裝備 varchar(20) NULL,\n",
      "行動電話 varchar(20) NULL,\n",
      "當事者區分_類別 varchar(20) NULL,\n",
      "車輛用途 varchar(20) NULL,\n",
      "當事者行動狀態 varchar(20) NULL,\n",
      "駕駛資格情形 varchar(20) NULL,\n",
      "駕駛執照種類 varchar(20) NULL,\n",
      "飲酒情形 varchar(20) NULL,\n",
      "車輛撞擊部位最初 varchar(20) NULL,\n",
      "車輛撞擊部位其他 varchar(20) NULL,\n",
      "肇事因素個別 varchar(20) NULL,\n",
      "肇事因素主要 varchar(20) NULL,\n",
      "肇事逃逸 varchar(20) NULL,\n",
      "職業 varchar(20) NULL,\n",
      "旅次目的 varchar(20) NULL,\n",
      "車種 varchar(20) NULL,\n",
      "GPS座標X float NULL,\n",
      "GPS座標Y float NULL);\n"
     ]
    }
   ],
   "source": [
    "## 建立資料表 的 query\n",
    "query = 'create table taichung_201711('\n",
    "\n",
    "for k in range(1):\n",
    "    for i, j in zip(df1.columns, df1.dtypes):\n",
    "        if j.name.find(\"int\")==0:\n",
    "            query = (query + '\\n{} int NULL,').format(i)\n",
    "        elif j.name.find(\"float\")==0:\n",
    "            query = (query + '\\n{} float NULL,').format(i)\n",
    "        else:\n",
    "            query = (query + '\\n{} varchar(20) NULL,').format(i)\n",
    "            \n",
    "query = query[:-1] + ');'   ##去掉最後的 逗點\n",
    "print(query)"
   ]
  },
  {
   "cell_type": "code",
   "execution_count": 7,
   "metadata": {},
   "outputs": [],
   "source": [
    "# 先試個有中文和NaN的資料\n",
    "#cursor.execute(\"drop table taichung_201711;\")\n",
    "#cursor.execute(\"create table taichung_201711(區 varchar(20) NULL, 死 float NULL);\")\n",
    "#cursor.execute(\"select * from taichung_201711;\")\n",
    "#cursor.execute(\"show tables;\")\n",
    "cursor.execute(\"describe taichung_201711;\")\n",
    "cursor.fetchall()\n",
    "cursor.commit()"
   ]
  },
  {
   "cell_type": "code",
   "execution_count": 12,
   "metadata": {},
   "outputs": [],
   "source": [
    "df1['死'] = df1.死.replace(np.NaN, 'NULL')"
   ]
  },
  {
   "cell_type": "code",
   "execution_count": 14,
   "metadata": {},
   "outputs": [],
   "source": [
    "### 建資料表 測試寫入有Nan\n",
    "#cursor.execute(\"drop table taichung_201711\")\n",
    "for i in df1.index:\n",
    "    cursor.execute(\"insert into taichung_201711 values('{}', {});\" \\\n",
    "          .format(df1.loc[i][6], df1.loc[i][7]))"
   ]
  },
  {
   "cell_type": "code",
   "execution_count": 27,
   "metadata": {},
   "outputs": [
    {
     "data": {
      "text/plain": [
       "[('?批陸?\\x80', 0.0), ('瞏剖??\\x80', None)]"
      ]
     },
     "execution_count": 27,
     "metadata": {},
     "output_type": "execute_result"
    }
   ],
   "source": [
    "cursor.execute(\"select * from taichung_201711\")\n",
    "cursor.fetchall()\n",
    "#cursor.commit()"
   ]
  },
  {
   "cell_type": "code",
   "execution_count": null,
   "metadata": {
    "collapsed": true
   },
   "outputs": [],
   "source": []
  },
  {
   "cell_type": "markdown",
   "metadata": {},
   "source": [
    "### 想要讓insert into也不用手動打\n",
    "但是字串要加''  判斷是沒有頭緒\n"
   ]
  },
  {
   "cell_type": "code",
   "execution_count": 20,
   "metadata": {},
   "outputs": [
    {
     "data": {
      "text/plain": [
       "'insert into qtable values({}, {}, {}, {}, {}, {}, {}, {}, {}, {}, {}, {}, {}, {}, {}, {}, {}, {}, {}, {}, {}, {}, {}, {}, {}, {}, {}, {}, {}, {}, {}, {}, {}, {}, {}, {}, {}, {}, {}, {}, {}, {}, {}, {}, {}, {}, {}, {}, {});'"
      ]
     },
     "execution_count": 20,
     "metadata": {},
     "output_type": "execute_result"
    }
   ],
   "source": [
    "a = 'insert into qtable values('\n",
    "a = a + '{}, '*df1.shape[1]\n",
    "a = a[:-2] + ');'\n",
    "a"
   ]
  },
  {
   "cell_type": "code",
   "execution_count": 21,
   "metadata": {},
   "outputs": [
    {
     "data": {
      "text/plain": [
       "'.format()'"
      ]
     },
     "execution_count": 21,
     "metadata": {},
     "output_type": "execute_result"
    }
   ],
   "source": [
    "b = '.format()'\n",
    "b"
   ]
  },
  {
   "cell_type": "code",
   "execution_count": null,
   "metadata": {
    "collapsed": true
   },
   "outputs": [],
   "source": []
  }
 ],
 "metadata": {
  "kernelspec": {
   "display_name": "Python 3",
   "language": "python",
   "name": "python3"
  },
  "language_info": {
   "codemirror_mode": {
    "name": "ipython",
    "version": 3
   },
   "file_extension": ".py",
   "mimetype": "text/x-python",
   "name": "python",
   "nbconvert_exporter": "python",
   "pygments_lexer": "ipython3",
   "version": "3.6.1"
  }
 },
 "nbformat": 4,
 "nbformat_minor": 2
}
