{
 "cells": [
  {
   "cell_type": "code",
   "execution_count": 1,
   "metadata": {
    "collapsed": true
   },
   "outputs": [],
   "source": [
    "import matplotlib.pyplot as plt\n",
    "import numpy as np\n",
    "import pandas as pd\n",
    "#plt.style.use('seaborn')\n",
    "#plt.rcParams['axes.unicode_minus'] = False\n",
    "#plt.rcParams['font.family'] = 'SimHei'\n",
    "#%matplotlib inline \n",
    "\n",
    "#plt.rcParams['xtick.direction'] = 'inout'  # x軸刻度 位置\n",
    "#plt.rcParams['xtick.major.size'] = 3.5 # x軸刻度 長度"
   ]
  },
  {
   "cell_type": "code",
   "execution_count": 2,
   "metadata": {
    "collapsed": true
   },
   "outputs": [],
   "source": [
    "#臺中市政府警察局106年11月份交通事故資料\n",
    "url_10611 = 'https://quality.data.gov.tw/dq_download_csv.php?nid=72293&md5_url=27099e7b514bec2a041fd8d0194fbd69'\n",
    "\n",
    "#臺中市政府警察局106年10月份交通事故資料\n",
    "url_10610 = 'https://quality.data.gov.tw/dq_download_csv.php?nid=59792&md5_url=351eb4516b664646e487f4b7ff5d6671'"
   ]
  },
  {
   "cell_type": "code",
   "execution_count": 3,
   "metadata": {
    "collapsed": true
   },
   "outputs": [],
   "source": [
    "# 使用pandas讀取網路連結檔案\n",
    "df_10611 = pd.read_csv(url_10611)\n",
    "df_10610 = pd.read_csv(url_10610)\n",
    "\n",
    "# 使用pandas 存檔\n",
    "#df_10611.to_csv('交通事故10611.csv')\n",
    "#df_10610.to_csv('交通事故10610.csv')"
   ]
  },
  {
   "cell_type": "markdown",
   "metadata": {},
   "source": [
    "## 連接資料庫"
   ]
  },
  {
   "cell_type": "code",
   "execution_count": 112,
   "metadata": {
    "collapsed": true
   },
   "outputs": [],
   "source": [
    "# 資料庫連接\n",
    "# CHARSET=UTF8; 和 cn.setencoding(encoding='utf-8') 都要設定\n",
    "\n",
    "import pyodbc\n",
    "cn = pyodbc.connect(\"DRIVER={MySQL ODBC 8.0 ANSI Driver}; SERVER=localhost; PORT=3306;DATABASE=taichung; UID=root; PASSWORD=123456;OPTION=3;CHARSET=UTF8;\") \n",
    "cn.setencoding(encoding='utf-8')\n",
    "cursor = cn.cursor()"
   ]
  },
  {
   "cell_type": "code",
   "execution_count": 541,
   "metadata": {},
   "outputs": [
    {
     "name": "stdout",
     "output_type": "stream",
     "text": [
      "[('pls', ), ('qtable', ), ('taichung_', ), ('taichung_201711', ), ('tc', ), ('tc_lite', )]\n"
     ]
    }
   ],
   "source": [
    "#cursor.execute(\"create database taichung;\")\n",
    "cursor.execute(\"use taichung;\")\n",
    "cursor.execute(\"show tables;\")\n",
    "print(cursor.fetchall())\n",
    "#cursor.commit()\n",
    "#cn.close()"
   ]
  },
  {
   "cell_type": "markdown",
   "metadata": {},
   "source": [
    "### 資料內容    　　　  chat: 縣市、區、速限(非道路)  　　　其他都是數字"
   ]
  },
  {
   "cell_type": "markdown",
   "metadata": {},
   "source": [
    "###  ===較少的欄位 寫入資料庫OK==="
   ]
  },
  {
   "cell_type": "code",
   "execution_count": 127,
   "metadata": {},
   "outputs": [
    {
     "data": {
      "text/html": [
       "<div>\n",
       "<style>\n",
       "    .dataframe thead tr:only-child th {\n",
       "        text-align: right;\n",
       "    }\n",
       "\n",
       "    .dataframe thead th {\n",
       "        text-align: left;\n",
       "    }\n",
       "\n",
       "    .dataframe tbody tr th {\n",
       "        vertical-align: top;\n",
       "    }\n",
       "</style>\n",
       "<table border=\"1\" class=\"dataframe\">\n",
       "  <thead>\n",
       "    <tr style=\"text-align: right;\">\n",
       "      <th></th>\n",
       "      <th>年</th>\n",
       "      <th>月</th>\n",
       "      <th>日</th>\n",
       "      <th>時</th>\n",
       "      <th>分</th>\n",
       "      <th>縣市</th>\n",
       "      <th>區</th>\n",
       "      <th>GPS座標X</th>\n",
       "      <th>GPS座標Y</th>\n",
       "    </tr>\n",
       "  </thead>\n",
       "  <tbody>\n",
       "    <tr>\n",
       "      <th>10127</th>\n",
       "      <td>2017</td>\n",
       "      <td>11</td>\n",
       "      <td>30</td>\n",
       "      <td>22</td>\n",
       "      <td>45</td>\n",
       "      <td>臺中市</td>\n",
       "      <td>北區</td>\n",
       "      <td>24.1668</td>\n",
       "      <td>120.668</td>\n",
       "    </tr>\n",
       "    <tr>\n",
       "      <th>10128</th>\n",
       "      <td>2017</td>\n",
       "      <td>11</td>\n",
       "      <td>30</td>\n",
       "      <td>22</td>\n",
       "      <td>46</td>\n",
       "      <td>臺中市</td>\n",
       "      <td>豐原區</td>\n",
       "      <td>NULL</td>\n",
       "      <td>NULL</td>\n",
       "    </tr>\n",
       "    <tr>\n",
       "      <th>10129</th>\n",
       "      <td>2017</td>\n",
       "      <td>11</td>\n",
       "      <td>30</td>\n",
       "      <td>23</td>\n",
       "      <td>0</td>\n",
       "      <td>臺中市</td>\n",
       "      <td>豐原區</td>\n",
       "      <td>24.2472</td>\n",
       "      <td>120.73</td>\n",
       "    </tr>\n",
       "    <tr>\n",
       "      <th>10130</th>\n",
       "      <td>2017</td>\n",
       "      <td>11</td>\n",
       "      <td>30</td>\n",
       "      <td>23</td>\n",
       "      <td>28</td>\n",
       "      <td>臺中市</td>\n",
       "      <td>西區</td>\n",
       "      <td>24.1392</td>\n",
       "      <td>120.678</td>\n",
       "    </tr>\n",
       "    <tr>\n",
       "      <th>10131</th>\n",
       "      <td>2017</td>\n",
       "      <td>11</td>\n",
       "      <td>30</td>\n",
       "      <td>23</td>\n",
       "      <td>42</td>\n",
       "      <td>臺中市</td>\n",
       "      <td>南屯區</td>\n",
       "      <td>24.139</td>\n",
       "      <td>120.61</td>\n",
       "    </tr>\n",
       "  </tbody>\n",
       "</table>\n",
       "</div>"
      ],
      "text/plain": [
       "          年   月   日   時   分   縣市    區   GPS座標X   GPS座標Y\n",
       "10127  2017  11  30  22  45  臺中市   北區  24.1668  120.668\n",
       "10128  2017  11  30  22  46  臺中市  豐原區     NULL     NULL\n",
       "10129  2017  11  30  23   0  臺中市  豐原區  24.2472   120.73\n",
       "10130  2017  11  30  23  28  臺中市   西區  24.1392  120.678\n",
       "10131  2017  11  30  23  42  臺中市  南屯區   24.139   120.61"
      ]
     },
     "execution_count": 127,
     "metadata": {},
     "output_type": "execute_result"
    }
   ],
   "source": [
    "df = df_10611[['年', '月','日', '時', '分', '縣市', '區', 'GPS座標X', 'GPS座標Y']]\n",
    "df = df.fillna(value='NULL')\n",
    "df.tail()"
   ]
  },
  {
   "cell_type": "code",
   "execution_count": 89,
   "metadata": {},
   "outputs": [
    {
     "data": {
      "text/plain": [
       "年           int64\n",
       "月           int64\n",
       "日           int64\n",
       "時           int64\n",
       "分           int64\n",
       "縣市         object\n",
       "區          object\n",
       "GPS座標X    float64\n",
       "GPS座標Y    float64\n",
       "dtype: object"
      ]
     },
     "execution_count": 89,
     "metadata": {},
     "output_type": "execute_result"
    }
   ],
   "source": [
    "df.dtypes"
   ]
  },
  {
   "cell_type": "code",
   "execution_count": 91,
   "metadata": {},
   "outputs": [
    {
     "name": "stdout",
     "output_type": "stream",
     "text": [
      "create table tc_lite(\n",
      "年 int NULL,\n",
      "月 int NULL,\n",
      "日 int NULL,\n",
      "時 int NULL,\n",
      "分 int NULL,\n",
      "縣市 varchar(20) NULL,\n",
      "區 varchar(20) NULL,\n",
      "GPS座標X float NULL,\n",
      "GPS座標Y float NULL);\n"
     ]
    }
   ],
   "source": [
    "## 建資料表語法\n",
    "tcl = \"\"\"create table tc_lite(\"\"\"\n",
    "\n",
    "for k in range(1):\n",
    "    for i, j in zip(df.columns, df.dtypes):\n",
    "        if j.name.find(\"int\")==0:\n",
    "            tcl = (tcl + \"\"\"\\n{} int NULL,\"\"\").format(i)\n",
    "        elif j.name.find(\"float\")==0:\n",
    "            tcl = (tcl + \"\"\"\\n{} float NULL,\"\"\").format(i)\n",
    "        else:\n",
    "            tcl = (tcl + '\\n{} varchar(20) NULL,').format(i)\n",
    "            \n",
    "tcl = tcl[:-1] + ');'   ##去掉最後的 逗點\n",
    "print(tcl)"
   ]
  },
  {
   "cell_type": "code",
   "execution_count": 540,
   "metadata": {},
   "outputs": [
    {
     "data": {
      "text/plain": [
       "[('tc_lite', )]"
      ]
     },
     "execution_count": 540,
     "metadata": {},
     "output_type": "execute_result"
    }
   ],
   "source": [
    "## 查詢現有資料表\n",
    "#cursor.execute(str(tcl))\n",
    "cursor.execute(\"show tables\")\n",
    "cursor.fetchall()"
   ]
  },
  {
   "cell_type": "code",
   "execution_count": 105,
   "metadata": {},
   "outputs": [],
   "source": [
    "### 建資料表 測試寫入全部\n",
    "for i in df.index:\n",
    "    cursor.execute(\"insert into tc_lite values({}, {}, {}, {}, {}, '{}', '{}', {}, {});\" \\\n",
    "          .format(df.loc[i][0], df.loc[i][1], df.loc[i][2], df.loc[i][3], df.loc[i][4], df.loc[i][5], df.loc[i][6]\\\n",
    "                 , df.loc[i][7], df.loc[i][8]))\n",
    "cursor.commit()"
   ]
  },
  {
   "cell_type": "markdown",
   "metadata": {},
   "source": [
    "### 編碼有很大的問題，無法查詢指定資料"
   ]
  },
  {
   "cell_type": "code",
   "execution_count": 544,
   "metadata": {},
   "outputs": [
    {
     "data": {
      "text/plain": [
       "[(2017, 11, 1, 0, 7, '?箔葉撣?', '?批陸?\\x80', 24.0738, 120.663),\n",
       " (2017, 11, 1, 0, 17, '?箔葉撣?', '瞏剖??\\x80', 24.2013, 120.703),\n",
       " (2017, 11, 1, 1, 0, '?箔葉撣?', '瞏剖??\\x80', 24.1946, 120.701),\n",
       " (2017, 11, 1, 1, 36, '?箔葉撣?', '?\\ue919扈?\\x80', 24.1824, 120.709),\n",
       " (2017, 11, 1, 1, 50, '?箔葉撣?', '?\\ue919扈?\\x80', 24.1736, 120.694)]"
      ]
     },
     "execution_count": 544,
     "metadata": {},
     "output_type": "execute_result"
    }
   ],
   "source": [
    "cursor.execute(\"select * from tc_lite limit 5;\")\n",
    "cursor.fetchall()"
   ]
  },
  {
   "cell_type": "markdown",
   "metadata": {},
   "source": [
    "### ==========================================="
   ]
  },
  {
   "cell_type": "code",
   "execution_count": null,
   "metadata": {
    "collapsed": true
   },
   "outputs": [],
   "source": []
  },
  {
   "cell_type": "code",
   "execution_count": null,
   "metadata": {
    "collapsed": true
   },
   "outputs": [],
   "source": []
  },
  {
   "cell_type": "markdown",
   "metadata": {},
   "source": [
    "## ===== 3版  成功 ======  最新版"
   ]
  },
  {
   "cell_type": "code",
   "execution_count": 447,
   "metadata": {
    "collapsed": true
   },
   "outputs": [],
   "source": [
    "# 資料庫連接\n",
    "# CHARSET=UTF8; 和 cn.setencoding(encoding='utf-8') 都要設定\n",
    "\n",
    "import pyodbc\n",
    "cn = pyodbc.connect(\"DRIVER={MySQL ODBC 8.0 ANSI Driver}; SERVER=localhost; PORT=3306;DATABASE=taichung; UID=root; PASSWORD=123456;OPTION=3;CHARSET=UTF8;\") \n",
    "cn.setencoding(encoding='utf-8')\n",
    "cursor = cn.cursor()"
   ]
  },
  {
   "cell_type": "code",
   "execution_count": 449,
   "metadata": {},
   "outputs": [
    {
     "data": {
      "text/plain": [
       "[('information_schema', ),\n",
       " ('mysql', ),\n",
       " ('performance_schema', ),\n",
       " ('sakila', ),\n",
       " ('sys', ),\n",
       " ('taichung', ),\n",
       " ('try', ),\n",
       " ('world', )]"
      ]
     },
     "execution_count": 449,
     "metadata": {},
     "output_type": "execute_result"
    }
   ],
   "source": [
    "cursor.execute(\"create database try\")\n",
    "cursor.execute(\"show databases\")\n",
    "cursor.fetchall()"
   ]
  },
  {
   "cell_type": "code",
   "execution_count": 534,
   "metadata": {},
   "outputs": [
    {
     "name": "stdout",
     "output_type": "stream",
     "text": [
      "create table tc_lite(\n",
      "年 int NULL,\n",
      "月 int NULL,\n",
      "日 int NULL,\n",
      "時 int NULL,\n",
      "分 int NULL,\n",
      "縣市 varchar(20) NULL,\n",
      "區 varchar(20) NULL,\n",
      "GPS座標X float NULL,\n",
      "GPS座標Y float NULL);\n"
     ]
    }
   ],
   "source": [
    "## 0513改版\n",
    "q_tc = 'create table tc_lite('\n",
    "\n",
    "for k in range(1):\n",
    "    for i, j in zip(dff.columns, dff.dtypes):\n",
    "        if type(dff.loc[0][i]) == str:\n",
    "            q_tc = (q_tc + '\\n{} varchar(20) NULL,').format(i)\n",
    "        elif type(dff.loc[0][i]) == float:\n",
    "            q_tc = (q_tc + '\\n{} float NULL,').format(i)\n",
    "        else:\n",
    "            q_tc = (q_tc + '\\n{} int NULL,').format(i)\n",
    "            \n",
    "q_tc = q_tc[:-1] + ');'   ##去掉最後的 逗點\n",
    "print(q_tc)"
   ]
  },
  {
   "cell_type": "code",
   "execution_count": 535,
   "metadata": {},
   "outputs": [
    {
     "data": {
      "text/plain": [
       "[('tc_lite', )]"
      ]
     },
     "execution_count": 535,
     "metadata": {},
     "output_type": "execute_result"
    }
   ],
   "source": [
    "#cursor.execute(\"use try;\")\n",
    "cursor.execute(\"drop table tc_lite\")\n",
    "cursor.execute(q_tc)\n",
    "cursor.execute(\"show tables;\")\n",
    "cursor.fetchall()"
   ]
  },
  {
   "cell_type": "code",
   "execution_count": 536,
   "metadata": {},
   "outputs": [
    {
     "data": {
      "text/plain": [
       "[(2017, 11, 1, 0, 7, '?箔葉撣?', '?批陸?\\x80', 24.0738, 120.663),\n",
       " (2017, 11, 1, 0, 17, '?箔葉撣?', '瞏剖??\\x80', 24.2013, 120.703),\n",
       " (2017, 11, 1, 1, 0, '?箔葉撣?', '瞏剖??\\x80', 24.1946, 120.701)]"
      ]
     },
     "execution_count": 536,
     "metadata": {},
     "output_type": "execute_result"
    }
   ],
   "source": [
    "##### insert 3版 #########\n",
    "for i in dff.index:\n",
    "    cursor.execute(\"insert into tc_lite values({})\".format(str(list(dff.loc[i]))[1:-1]))\n",
    "\n",
    "cursor.commit()\n",
    "cursor.execute(\"select * from tc_lite;\")\n",
    "cursor.fetchall()"
   ]
  },
  {
   "cell_type": "code",
   "execution_count": 539,
   "metadata": {},
   "outputs": [
    {
     "data": {
      "text/plain": [
       "[(24.0738, ), (24.2013, ), (24.1946, )]"
      ]
     },
     "execution_count": 539,
     "metadata": {},
     "output_type": "execute_result"
    }
   ],
   "source": [
    "cursor.execute(\"select GPS座標X from tc_lite;\")\n",
    "cursor.fetchall()"
   ]
  },
  {
   "cell_type": "code",
   "execution_count": null,
   "metadata": {
    "collapsed": true
   },
   "outputs": [],
   "source": []
  },
  {
   "cell_type": "code",
   "execution_count": null,
   "metadata": {
    "collapsed": true
   },
   "outputs": [],
   "source": []
  }
 ],
 "metadata": {
  "kernelspec": {
   "display_name": "Python 3",
   "language": "python",
   "name": "python3"
  },
  "language_info": {
   "codemirror_mode": {
    "name": "ipython",
    "version": 3
   },
   "file_extension": ".py",
   "mimetype": "text/x-python",
   "name": "python",
   "nbconvert_exporter": "python",
   "pygments_lexer": "ipython3",
   "version": "3.6.1"
  }
 },
 "nbformat": 4,
 "nbformat_minor": 2
}
