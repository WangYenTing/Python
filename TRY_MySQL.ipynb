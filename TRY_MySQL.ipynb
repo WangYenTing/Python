{
 "cells": [
  {
   "cell_type": "code",
   "execution_count": 1,
   "metadata": {
    "collapsed": true
   },
   "outputs": [],
   "source": [
    "import matplotlib.pyplot as plt\n",
    "import numpy as np\n",
    "import pandas as pd\n",
    "#plt.style.use('seaborn')\n",
    "#plt.rcParams['axes.unicode_minus'] = False\n",
    "#plt.rcParams['font.family'] = 'SimHei'\n",
    "#%matplotlib inline \n",
    "\n",
    "#plt.rcParams['xtick.direction'] = 'inout'  # x軸刻度 位置\n",
    "#plt.rcParams['xtick.major.size'] = 3.5 # x軸刻度 長度"
   ]
  },
  {
   "cell_type": "code",
   "execution_count": 56,
   "metadata": {
    "collapsed": true
   },
   "outputs": [],
   "source": [
    "#臺中市政府警察局106年11月份交通事故資料\n",
    "url_10611 = 'https://quality.data.gov.tw/dq_download_csv.php?nid=72293&md5_url=27099e7b514bec2a041fd8d0194fbd69'\n",
    "\n",
    "#臺中市政府警察局106年10月份交通事故資料\n",
    "#url_10610 = 'https://quality.data.gov.tw/dq_download_csv.php?nid=59792&md5_url=351eb4516b664646e487f4b7ff5d6671'"
   ]
  },
  {
   "cell_type": "code",
   "execution_count": 57,
   "metadata": {
    "collapsed": true
   },
   "outputs": [],
   "source": [
    "# 使用pandas讀取網路連結檔案\n",
    "df_10611 = pd.read_csv(url_10611)\n",
    "#df_10610 = pd.read_csv(url_10610)\n",
    "\n",
    "# 使用pandas 存檔\n",
    "#df_10611.to_csv('交通事故10611.csv')\n",
    "#df_10610.to_csv('交通事故10610.csv')"
   ]
  },
  {
   "cell_type": "markdown",
   "metadata": {},
   "source": [
    "## 連接資料庫"
   ]
  },
  {
   "cell_type": "code",
   "execution_count": 2,
   "metadata": {
    "collapsed": true
   },
   "outputs": [],
   "source": [
    "# 資料庫連接\n",
    "# CHARSET=UTF8; 和 cn.setencoding(encoding='utf-8') 都要設定\n",
    "\n",
    "import pyodbc\n",
    "cn = pyodbc.connect(\"DRIVER={MySQL ODBC 8.0 ANSI Driver}; SERVER=localhost; PORT=3306;DATABASE=taichung; UID=root; PASSWORD=123456;OPTION=3;CHARSET=UTF8;\") \n",
    "cn.setencoding(encoding='utf-8')\n",
    "cursor = cn.cursor()"
   ]
  },
  {
   "cell_type": "code",
   "execution_count": 541,
   "metadata": {},
   "outputs": [
    {
     "name": "stdout",
     "output_type": "stream",
     "text": [
      "[('pls', ), ('qtable', ), ('taichung_', ), ('taichung_201711', ), ('tc', ), ('tc_lite', )]\n"
     ]
    }
   ],
   "source": [
    "#cursor.execute(\"create database taichung;\")\n",
    "cursor.execute(\"use taichung;\")\n",
    "cursor.execute(\"show tables;\")\n",
    "print(cursor.fetchall())\n",
    "#cursor.commit()\n",
    "#cn.close()"
   ]
  },
  {
   "cell_type": "markdown",
   "metadata": {},
   "source": [
    "### 資料內容    　　　  chat: 縣市、區、速限(非道路)  　　　其他都是數字"
   ]
  },
  {
   "cell_type": "markdown",
   "metadata": {},
   "source": [
    "###  ===較少的欄位 寫入資料庫OK==="
   ]
  },
  {
   "cell_type": "code",
   "execution_count": 62,
   "metadata": {},
   "outputs": [
    {
     "data": {
      "text/html": [
       "<div>\n",
       "<style>\n",
       "    .dataframe thead tr:only-child th {\n",
       "        text-align: right;\n",
       "    }\n",
       "\n",
       "    .dataframe thead th {\n",
       "        text-align: left;\n",
       "    }\n",
       "\n",
       "    .dataframe tbody tr th {\n",
       "        vertical-align: top;\n",
       "    }\n",
       "</style>\n",
       "<table border=\"1\" class=\"dataframe\">\n",
       "  <thead>\n",
       "    <tr style=\"text-align: right;\">\n",
       "      <th></th>\n",
       "      <th>年</th>\n",
       "      <th>月</th>\n",
       "      <th>日</th>\n",
       "      <th>時</th>\n",
       "      <th>分</th>\n",
       "      <th>縣市</th>\n",
       "      <th>區</th>\n",
       "      <th>GPS座標X</th>\n",
       "      <th>GPS座標Y</th>\n",
       "    </tr>\n",
       "  </thead>\n",
       "  <tbody>\n",
       "    <tr>\n",
       "      <th>10127</th>\n",
       "      <td>2017</td>\n",
       "      <td>11</td>\n",
       "      <td>30</td>\n",
       "      <td>22</td>\n",
       "      <td>45</td>\n",
       "      <td>臺中市</td>\n",
       "      <td>北區</td>\n",
       "      <td>24.1668</td>\n",
       "      <td>120.668</td>\n",
       "    </tr>\n",
       "    <tr>\n",
       "      <th>10128</th>\n",
       "      <td>2017</td>\n",
       "      <td>11</td>\n",
       "      <td>30</td>\n",
       "      <td>22</td>\n",
       "      <td>46</td>\n",
       "      <td>臺中市</td>\n",
       "      <td>豐原區</td>\n",
       "      <td>NULL</td>\n",
       "      <td>NULL</td>\n",
       "    </tr>\n",
       "    <tr>\n",
       "      <th>10129</th>\n",
       "      <td>2017</td>\n",
       "      <td>11</td>\n",
       "      <td>30</td>\n",
       "      <td>23</td>\n",
       "      <td>0</td>\n",
       "      <td>臺中市</td>\n",
       "      <td>豐原區</td>\n",
       "      <td>24.2472</td>\n",
       "      <td>120.73</td>\n",
       "    </tr>\n",
       "    <tr>\n",
       "      <th>10130</th>\n",
       "      <td>2017</td>\n",
       "      <td>11</td>\n",
       "      <td>30</td>\n",
       "      <td>23</td>\n",
       "      <td>28</td>\n",
       "      <td>臺中市</td>\n",
       "      <td>西區</td>\n",
       "      <td>24.1392</td>\n",
       "      <td>120.678</td>\n",
       "    </tr>\n",
       "    <tr>\n",
       "      <th>10131</th>\n",
       "      <td>2017</td>\n",
       "      <td>11</td>\n",
       "      <td>30</td>\n",
       "      <td>23</td>\n",
       "      <td>42</td>\n",
       "      <td>臺中市</td>\n",
       "      <td>南屯區</td>\n",
       "      <td>24.139</td>\n",
       "      <td>120.61</td>\n",
       "    </tr>\n",
       "  </tbody>\n",
       "</table>\n",
       "</div>"
      ],
      "text/plain": [
       "          年   月   日   時   分   縣市    區   GPS座標X   GPS座標Y\n",
       "10127  2017  11  30  22  45  臺中市   北區  24.1668  120.668\n",
       "10128  2017  11  30  22  46  臺中市  豐原區     NULL     NULL\n",
       "10129  2017  11  30  23   0  臺中市  豐原區  24.2472   120.73\n",
       "10130  2017  11  30  23  28  臺中市   西區  24.1392  120.678\n",
       "10131  2017  11  30  23  42  臺中市  南屯區   24.139   120.61"
      ]
     },
     "execution_count": 62,
     "metadata": {},
     "output_type": "execute_result"
    }
   ],
   "source": [
    "df = df_10611[['年', '月','日', '時', '分', '縣市', '區', 'GPS座標X', 'GPS座標Y']]\n",
    "df = df.fillna(value='NULL')\n",
    "df.tail()"
   ]
  },
  {
   "cell_type": "code",
   "execution_count": 89,
   "metadata": {},
   "outputs": [
    {
     "data": {
      "text/plain": [
       "年           int64\n",
       "月           int64\n",
       "日           int64\n",
       "時           int64\n",
       "分           int64\n",
       "縣市         object\n",
       "區          object\n",
       "GPS座標X    float64\n",
       "GPS座標Y    float64\n",
       "dtype: object"
      ]
     },
     "execution_count": 89,
     "metadata": {},
     "output_type": "execute_result"
    }
   ],
   "source": [
    "df.dtypes"
   ]
  },
  {
   "cell_type": "code",
   "execution_count": 91,
   "metadata": {},
   "outputs": [
    {
     "name": "stdout",
     "output_type": "stream",
     "text": [
      "create table tc_lite(\n",
      "年 int NULL,\n",
      "月 int NULL,\n",
      "日 int NULL,\n",
      "時 int NULL,\n",
      "分 int NULL,\n",
      "縣市 varchar(20) NULL,\n",
      "區 varchar(20) NULL,\n",
      "GPS座標X float NULL,\n",
      "GPS座標Y float NULL);\n"
     ]
    }
   ],
   "source": [
    "## 建資料表語法\n",
    "tcl = \"\"\"create table tc_lite(\"\"\"\n",
    "\n",
    "for k in range(1):\n",
    "    for i, j in zip(df.columns, df.dtypes):\n",
    "        if j.name.find(\"int\")==0:\n",
    "            tcl = (tcl + \"\"\"\\n{} int NULL,\"\"\").format(i)\n",
    "        elif j.name.find(\"float\")==0:\n",
    "            tcl = (tcl + \"\"\"\\n{} float NULL,\"\"\").format(i)\n",
    "        else:\n",
    "            tcl = (tcl + '\\n{} varchar(20) NULL,').format(i)\n",
    "            \n",
    "tcl = tcl[:-1] + ');'   ##去掉最後的 逗點\n",
    "print(tcl)"
   ]
  },
  {
   "cell_type": "code",
   "execution_count": 540,
   "metadata": {},
   "outputs": [
    {
     "data": {
      "text/plain": [
       "[('tc_lite', )]"
      ]
     },
     "execution_count": 540,
     "metadata": {},
     "output_type": "execute_result"
    }
   ],
   "source": [
    "## 查詢現有資料表\n",
    "#cursor.execute(str(tcl))\n",
    "cursor.execute(\"show tables\")\n",
    "cursor.fetchall()"
   ]
  },
  {
   "cell_type": "code",
   "execution_count": 105,
   "metadata": {
    "collapsed": true
   },
   "outputs": [],
   "source": [
    "## insert 2版\n",
    "### 建資料表 測試寫入全部\n",
    "for i in df.index:\n",
    "    cursor.execute(\"insert into tc_lite values({}, {}, {}, {}, {}, '{}', '{}', {}, {});\" \\\n",
    "          .format(df.loc[i][0], df.loc[i][1], df.loc[i][2], df.loc[i][3], df.loc[i][4], df.loc[i][5], df.loc[i][6]\\\n",
    "                 , df.loc[i][7], df.loc[i][8]))\n",
    "cursor.commit()"
   ]
  },
  {
   "cell_type": "code",
   "execution_count": null,
   "metadata": {
    "collapsed": true
   },
   "outputs": [],
   "source": []
  },
  {
   "cell_type": "markdown",
   "metadata": {},
   "source": [
    "## ===== 3版  成功 ======  最新版"
   ]
  },
  {
   "cell_type": "code",
   "execution_count": 447,
   "metadata": {
    "collapsed": true
   },
   "outputs": [],
   "source": [
    "# 資料庫連接\n",
    "# CHARSET=UTF8; 和 cn.setencoding(encoding='utf-8') 都要設定\n",
    "\n",
    "import pyodbc\n",
    "cn = pyodbc.connect(\"DRIVER={MySQL ODBC 8.0 ANSI Driver}; SERVER=localhost; PORT=3306;DATABASE=taichung; UID=root; PASSWORD=123456;OPTION=3;CHARSET=UTF8;\") \n",
    "cn.setencoding(encoding='utf-8')\n",
    "cursor = cn.cursor()"
   ]
  },
  {
   "cell_type": "code",
   "execution_count": 5,
   "metadata": {},
   "outputs": [
    {
     "data": {
      "text/plain": [
       "[('information_schema', ),\n",
       " ('mysql', ),\n",
       " ('performance_schema', ),\n",
       " ('sakila', ),\n",
       " ('sys', ),\n",
       " ('taichung', ),\n",
       " ('try', ),\n",
       " ('trycollation', ),\n",
       " ('world', )]"
      ]
     },
     "execution_count": 5,
     "metadata": {},
     "output_type": "execute_result"
    }
   ],
   "source": [
    "#cursor.execute(\"create database try\")\n",
    "cursor.execute(\"use try;\")\n",
    "cursor.execute(\"show databases\")\n",
    "cursor.fetchall()"
   ]
  },
  {
   "cell_type": "code",
   "execution_count": 534,
   "metadata": {},
   "outputs": [
    {
     "name": "stdout",
     "output_type": "stream",
     "text": [
      "create table tc_lite(\n",
      "年 int NULL,\n",
      "月 int NULL,\n",
      "日 int NULL,\n",
      "時 int NULL,\n",
      "分 int NULL,\n",
      "縣市 varchar(20) NULL,\n",
      "區 varchar(20) NULL,\n",
      "GPS座標X float NULL,\n",
      "GPS座標Y float NULL);\n"
     ]
    }
   ],
   "source": [
    "## create table 3版_最新版 *** 看第一列決定type\n",
    "q_tc = 'create table tc_lite('\n",
    "\n",
    "for k in range(1):\n",
    "    for i, j in zip(dff.columns, dff.dtypes):\n",
    "        if type(dff.loc[0][i]) == str:\n",
    "            q_tc = (q_tc + '\\n{} varchar(20) NULL,').format(i)\n",
    "        elif type(dff.loc[0][i]) == float:\n",
    "            q_tc = (q_tc + '\\n{} float NULL,').format(i)\n",
    "        else:\n",
    "            q_tc = (q_tc + '\\n{} int NULL,').format(i)\n",
    "            \n",
    "q_tc = q_tc[:-1] + ');'   ##去掉最後的 逗點\n",
    "print(q_tc)"
   ]
  },
  {
   "cell_type": "code",
   "execution_count": 535,
   "metadata": {},
   "outputs": [
    {
     "data": {
      "text/plain": [
       "[('tc_lite', )]"
      ]
     },
     "execution_count": 535,
     "metadata": {},
     "output_type": "execute_result"
    }
   ],
   "source": [
    "#cursor.execute(\"use try;\")\n",
    "cursor.execute(\"drop table tc_lite\")\n",
    "cursor.execute(q_tc)\n",
    "cursor.execute(\"show tables;\")\n",
    "cursor.fetchall()"
   ]
  },
  {
   "cell_type": "code",
   "execution_count": 536,
   "metadata": {},
   "outputs": [
    {
     "data": {
      "text/plain": [
       "[(2017, 11, 1, 0, 7, '?箔葉撣?', '?批陸?\\x80', 24.0738, 120.663),\n",
       " (2017, 11, 1, 0, 17, '?箔葉撣?', '瞏剖??\\x80', 24.2013, 120.703),\n",
       " (2017, 11, 1, 1, 0, '?箔葉撣?', '瞏剖??\\x80', 24.1946, 120.701)]"
      ]
     },
     "execution_count": 536,
     "metadata": {},
     "output_type": "execute_result"
    }
   ],
   "source": [
    "##### insert 3版 #########最新版\n",
    "for i in dff.index:\n",
    "    cursor.execute(\"insert into tc_lite values({})\".format(str(list(dff.loc[i]))[1:-1]))\n",
    "\n",
    "cursor.commit()\n",
    "cursor.execute(\"select * from tc_lite;\")\n",
    "cursor.fetchall()"
   ]
  },
  {
   "cell_type": "code",
   "execution_count": null,
   "metadata": {
    "collapsed": true
   },
   "outputs": [],
   "source": []
  },
  {
   "cell_type": "markdown",
   "metadata": {
    "collapsed": true
   },
   "source": [
    "### 0513版 寫入全部的資料 in Datebase:try"
   ]
  },
  {
   "cell_type": "markdown",
   "metadata": {},
   "source": [
    "#### nan 還沒處理"
   ]
  },
  {
   "cell_type": "code",
   "execution_count": 6,
   "metadata": {},
   "outputs": [
    {
     "name": "stdout",
     "output_type": "stream",
     "text": [
      "<class 'pandas.core.frame.DataFrame'>\n",
      "RangeIndex: 10132 entries, 0 to 10131\n",
      "Data columns (total 49 columns):\n",
      "年            10132 non-null int64\n",
      "月            10132 non-null int64\n",
      "日            10132 non-null int64\n",
      "時            10132 non-null int64\n",
      "分            10132 non-null int64\n",
      "縣市           10132 non-null object\n",
      "區            10132 non-null object\n",
      "死            6988 non-null float64\n",
      "受傷           6988 non-null float64\n",
      "2-30         6988 non-null float64\n",
      "天候           9925 non-null float64\n",
      "光線           6365 non-null float64\n",
      "道路類別         6364 non-null float64\n",
      "速限           9931 non-null object\n",
      "道路型態         6338 non-null float64\n",
      "事故位置         6340 non-null float64\n",
      "路面鋪裝         6338 non-null float64\n",
      "路面狀態         6337 non-null float64\n",
      "路面缺陷         6337 non-null float64\n",
      "障礙物          6339 non-null float64\n",
      "視距           6339 non-null float64\n",
      "號誌種類         6353 non-null float64\n",
      "號誌動作         6337 non-null float64\n",
      "分向設施         6339 non-null float64\n",
      "快車道或一般車道間    6339 non-null float64\n",
      "快慢車道間        6338 non-null float64\n",
      "路面邊線         6337 non-null float64\n",
      "事故類型及型態      6339 non-null float64\n",
      "主要肇因         6964 non-null float64\n",
      "受傷程度         6982 non-null object\n",
      "主要傷處         6982 non-null object\n",
      "保護裝備         6982 non-null object\n",
      "行動電話         6982 non-null object\n",
      "當事者區分(類別)    10114 non-null object\n",
      "車輛用途         6982 non-null object\n",
      "當事者行動狀態      6982 non-null object\n",
      "駕駛資格情形       10089 non-null object\n",
      "駕駛執照種類       6982 non-null object\n",
      "飲酒情形         10089 non-null object\n",
      "車輛撞擊部位最初     6982 non-null object\n",
      "車輛撞擊部位其他     6982 non-null object\n",
      "肇事因素個別       10089 non-null object\n",
      "肇事因素主要       7058 non-null object\n",
      "肇事逃逸         10114 non-null object\n",
      "職業           10114 non-null object\n",
      "旅次目的         6982 non-null object\n",
      "車種           10114 non-null object\n",
      "GPS座標X       10041 non-null float64\n",
      "GPS座標Y       10041 non-null float64\n",
      "dtypes: float64(23), int64(5), object(21)\n",
      "memory usage: 3.8+ MB\n"
     ]
    }
   ],
   "source": [
    "df_10611.info()"
   ]
  },
  {
   "cell_type": "code",
   "execution_count": 69,
   "metadata": {},
   "outputs": [
    {
     "name": "stdout",
     "output_type": "stream",
     "text": [
      "<class 'pandas.core.frame.DataFrame'>\n",
      "RangeIndex: 10132 entries, 0 to 10131\n",
      "Data columns (total 49 columns):\n",
      "年            10132 non-null int64\n",
      "月            10132 non-null int64\n",
      "日            10132 non-null int64\n",
      "時            10132 non-null int64\n",
      "分            10132 non-null int64\n",
      "縣市           10132 non-null object\n",
      "區            10132 non-null object\n",
      "死            10132 non-null object\n",
      "受傷           10132 non-null object\n",
      "2_30         10132 non-null object\n",
      "天候           10132 non-null object\n",
      "光線           10132 non-null object\n",
      "道路類別         10132 non-null object\n",
      "速限           10132 non-null object\n",
      "道路型態         10132 non-null object\n",
      "事故位置         10132 non-null object\n",
      "路面鋪裝         10132 non-null object\n",
      "路面狀態         10132 non-null object\n",
      "路面缺陷         10132 non-null object\n",
      "障礙物          10132 non-null object\n",
      "視距           10132 non-null object\n",
      "號誌種類         10132 non-null object\n",
      "號誌動作         10132 non-null object\n",
      "分向設施         10132 non-null object\n",
      "快車道或一般車道間    10132 non-null object\n",
      "快慢車道間        10132 non-null object\n",
      "路面邊線         10132 non-null object\n",
      "事故類型及型態      10132 non-null object\n",
      "主要肇因         10132 non-null object\n",
      "受傷程度         10132 non-null object\n",
      "主要傷處         10132 non-null object\n",
      "保護裝備         10132 non-null object\n",
      "行動電話         10132 non-null object\n",
      "當事者區分_類別     10132 non-null object\n",
      "車輛用途         10132 non-null object\n",
      "當事者行動狀態      10132 non-null object\n",
      "駕駛資格情形       10132 non-null object\n",
      "駕駛執照種類       10132 non-null object\n",
      "飲酒情形         10132 non-null object\n",
      "車輛撞擊部位最初     10132 non-null object\n",
      "車輛撞擊部位其他     10132 non-null object\n",
      "肇事因素個別       10132 non-null object\n",
      "肇事因素主要       10132 non-null object\n",
      "肇事逃逸         10132 non-null object\n",
      "職業           10132 non-null object\n",
      "旅次目的         10132 non-null object\n",
      "車種           10132 non-null object\n",
      "GPS座標X       10132 non-null object\n",
      "GPS座標Y       10132 non-null object\n",
      "dtypes: int64(5), object(44)\n",
      "memory usage: 3.8+ MB\n"
     ]
    }
   ],
   "source": [
    "## 資料前處理\n",
    "df = df_10611.rename(columns={'2-30':'2_30', '當事者區分(類別)':'當事者區分_類別'})\n",
    "df = df.fillna(value='NULL')\n",
    "df['車輛撞擊部位其他'] = df['車輛撞擊部位其他'].replace('  ', 'NULL')\n",
    "df.info()"
   ]
  },
  {
   "cell_type": "code",
   "execution_count": 81,
   "metadata": {},
   "outputs": [
    {
     "name": "stdout",
     "output_type": "stream",
     "text": [
      "create table tc(\n",
      "年 int NULL,\n",
      "月 int NULL,\n",
      "日 int NULL,\n",
      "時 int NULL,\n",
      "分 int NULL,\n",
      "縣市 varchar(20) NULL,\n",
      "區 varchar(20) NULL,\n",
      "死 varchar(20) NULL,\n",
      "受傷 varchar(20) NULL,\n",
      "2_30 varchar(20) NULL,\n",
      "天候 varchar(20) NULL,\n",
      "光線 varchar(20) NULL,\n",
      "道路類別 varchar(20) NULL,\n",
      "速限 varchar(20) NULL,\n",
      "道路型態 varchar(20) NULL,\n",
      "事故位置 varchar(20) NULL,\n",
      "路面鋪裝 varchar(20) NULL,\n",
      "路面狀態 varchar(20) NULL,\n",
      "路面缺陷 varchar(20) NULL,\n",
      "障礙物 varchar(20) NULL,\n",
      "視距 varchar(20) NULL,\n",
      "號誌種類 varchar(20) NULL,\n",
      "號誌動作 varchar(20) NULL,\n",
      "分向設施 varchar(20) NULL,\n",
      "快車道或一般車道間 varchar(20) NULL,\n",
      "快慢車道間 varchar(20) NULL,\n",
      "路面邊線 varchar(20) NULL,\n",
      "事故類型及型態 varchar(20) NULL,\n",
      "主要肇因 varchar(20) NULL,\n",
      "受傷程度 varchar(20) NULL,\n",
      "主要傷處 varchar(20) NULL,\n",
      "保護裝備 varchar(20) NULL,\n",
      "行動電話 varchar(20) NULL,\n",
      "當事者區分_類別 varchar(20) NULL,\n",
      "車輛用途 varchar(20) NULL,\n",
      "當事者行動狀態 varchar(20) NULL,\n",
      "駕駛資格情形 varchar(20) NULL,\n",
      "駕駛執照種類 varchar(20) NULL,\n",
      "飲酒情形 varchar(20) NULL,\n",
      "車輛撞擊部位最初 varchar(20) NULL,\n",
      "車輛撞擊部位其他 varchar(20) NULL,\n",
      "肇事因素個別 varchar(20) NULL,\n",
      "肇事因素主要 varchar(20) NULL,\n",
      "肇事逃逸 varchar(20) NULL,\n",
      "職業 varchar(20) NULL,\n",
      "旅次目的 varchar(20) NULL,\n",
      "車種 varchar(20) NULL,\n",
      "GPS座標X varchar(20) NULL,\n",
      "GPS座標Y varchar(20) NULL);\n"
     ]
    }
   ],
   "source": [
    "## 舊版create table  ˙.˙ nan 'NULL' 無法處理\n",
    "q_all = 'create table tc('\n",
    "\n",
    "for k in range(1):\n",
    "    for i, j in zip(df.columns, df.dtypes):\n",
    "        if j.name.find(\"int\")==0:\n",
    "            q_all = (q_all + \"\"\"\\n{} int NULL,\"\"\").format(i)\n",
    "        elif j.name.find(\"float\")==0:\n",
    "            q_all = (q_all + \"\"\"\\n{} float NULL,\"\"\").format(i)\n",
    "        else:\n",
    "            q_all = (q_all + '\\n{} varchar(20) NULL,').format(i)\n",
    "            \n",
    "q_all = q_all[:-1] + ');'   ##去掉最後的 逗點\n",
    "print(q_all)"
   ]
  },
  {
   "cell_type": "code",
   "execution_count": null,
   "metadata": {
    "collapsed": true
   },
   "outputs": [],
   "source": [
    "## 建table tc\n",
    "cursor.execute(\"drop table tc;\")\n",
    "cursor.execute(q_all)\n",
    "cursor.commit()"
   ]
  },
  {
   "cell_type": "code",
   "execution_count": 55,
   "metadata": {},
   "outputs": [
    {
     "data": {
      "text/plain": [
       "[('tc', ), ('tc_lite', )]"
      ]
     },
     "execution_count": 55,
     "metadata": {},
     "output_type": "execute_result"
    }
   ],
   "source": [
    "cursor.execute(\"use try;\")\n",
    "cursor.execute(\"show tables;\")\n",
    "cursor.fetchall()"
   ]
  },
  {
   "cell_type": "code",
   "execution_count": 87,
   "metadata": {},
   "outputs": [
    {
     "data": {
      "text/plain": [
       "[(10132, )]"
      ]
     },
     "execution_count": 87,
     "metadata": {},
     "output_type": "execute_result"
    }
   ],
   "source": [
    "## insert data to tc\n",
    "## df_lite.iloc[i].values.tolist()##\n",
    "for i in df_10611.index:\n",
    "    cursor.execute(\"insert into tc values({})\".format(str(list(df.loc[i]))[1:-1]))\n",
    "cursor.commit()\n",
    "cursor.execute(\"select count(*) from tc\")\n",
    "cursor.fetchall()"
   ]
  },
  {
   "cell_type": "code",
   "execution_count": 18,
   "metadata": {},
   "outputs": [
    {
     "data": {
      "text/html": [
       "<div>\n",
       "<style>\n",
       "    .dataframe thead tr:only-child th {\n",
       "        text-align: right;\n",
       "    }\n",
       "\n",
       "    .dataframe thead th {\n",
       "        text-align: left;\n",
       "    }\n",
       "\n",
       "    .dataframe tbody tr th {\n",
       "        vertical-align: top;\n",
       "    }\n",
       "</style>\n",
       "<table border=\"1\" class=\"dataframe\">\n",
       "  <thead>\n",
       "    <tr style=\"text-align: right;\">\n",
       "      <th></th>\n",
       "      <th>撟?</th>\n",
       "      <th>??</th>\n",
       "      <th>??</th>\n",
       "      <th>??</th>\n",
       "      <th>??</th>\n",
       "      <th>蝮??</th>\n",
       "      <th>?</th>\n",
       "      <th>GPS摨扳?X</th>\n",
       "      <th>GPS摨扳?Y</th>\n",
       "    </tr>\n",
       "  </thead>\n",
       "  <tbody>\n",
       "    <tr>\n",
       "      <th>0</th>\n",
       "      <td>2017</td>\n",
       "      <td>11</td>\n",
       "      <td>1</td>\n",
       "      <td>0</td>\n",
       "      <td>7</td>\n",
       "      <td>?箔葉撣?</td>\n",
       "      <td>?批陸?</td>\n",
       "      <td>24.073801</td>\n",
       "      <td>120.663218</td>\n",
       "    </tr>\n",
       "    <tr>\n",
       "      <th>1</th>\n",
       "      <td>2017</td>\n",
       "      <td>11</td>\n",
       "      <td>1</td>\n",
       "      <td>0</td>\n",
       "      <td>17</td>\n",
       "      <td>?箔葉撣?</td>\n",
       "      <td>瞏剖??</td>\n",
       "      <td>24.201317</td>\n",
       "      <td>120.70316299999999</td>\n",
       "    </tr>\n",
       "    <tr>\n",
       "      <th>2</th>\n",
       "      <td>2017</td>\n",
       "      <td>11</td>\n",
       "      <td>1</td>\n",
       "      <td>1</td>\n",
       "      <td>0</td>\n",
       "      <td>?箔葉撣?</td>\n",
       "      <td>瞏剖??</td>\n",
       "      <td>24.19456</td>\n",
       "      <td>120.701118</td>\n",
       "    </tr>\n",
       "    <tr>\n",
       "      <th>3</th>\n",
       "      <td>2017</td>\n",
       "      <td>11</td>\n",
       "      <td>1</td>\n",
       "      <td>1</td>\n",
       "      <td>36</td>\n",
       "      <td>?箔葉撣?</td>\n",
       "      <td>?扈?</td>\n",
       "      <td>24.182356</td>\n",
       "      <td>120.708799</td>\n",
       "    </tr>\n",
       "    <tr>\n",
       "      <th>4</th>\n",
       "      <td>2017</td>\n",
       "      <td>11</td>\n",
       "      <td>1</td>\n",
       "      <td>1</td>\n",
       "      <td>50</td>\n",
       "      <td>?箔葉撣?</td>\n",
       "      <td>?扈?</td>\n",
       "      <td>24.173563</td>\n",
       "      <td>120.69446699999999</td>\n",
       "    </tr>\n",
       "  </tbody>\n",
       "</table>\n",
       "</div>"
      ],
      "text/plain": [
       "     撟?  ??  ??  ??  ??    蝮??     ?    GPS摨扳?X             GPS摨扳?Y\n",
       "0  2017  11   1   0   7  ?箔葉撣?  ?批陸?  24.073801          120.663218\n",
       "1  2017  11   1   0  17  ?箔葉撣?  瞏剖??  24.201317  120.70316299999999\n",
       "2  2017  11   1   1   0  ?箔葉撣?  瞏剖??   24.19456          120.701118\n",
       "3  2017  11   1   1  36  ?箔葉撣?  ?扈?  24.182356          120.708799\n",
       "4  2017  11   1   1  50  ?箔葉撣?  ?扈?  24.173563  120.69446699999999"
      ]
     },
     "execution_count": 18,
     "metadata": {},
     "output_type": "execute_result"
    }
   ],
   "source": [
    "## select data from sql to dataframe in python\n",
    "df_lite = pd.read_sql('select 年, 月,日,時,分,縣市,區,GPS座標X,GPS座標Y from tc limit 5;', con=cn)\n",
    "df_lite.head()"
   ]
  },
  {
   "cell_type": "code",
   "execution_count": 34,
   "metadata": {},
   "outputs": [
    {
     "data": {
      "text/plain": [
       "0    24.073801\n",
       "1    24.201317\n",
       "2     24.19456\n",
       "3    24.182356\n",
       "4    24.173563\n",
       "Name: GPS摨扳?X, dtype: object"
      ]
     },
     "execution_count": 34,
     "metadata": {},
     "output_type": "execute_result"
    }
   ],
   "source": [
    "df_lite['GPS摨扳?X']"
   ]
  },
  {
   "cell_type": "code",
   "execution_count": 32,
   "metadata": {},
   "outputs": [
    {
     "data": {
      "image/png": "[encoded data removed]",
      "text/plain": [
       "<matplotlib.figure.Figure at 0xa2e9fd0>"
      ]
     },
     "metadata": {},
     "output_type": "display_data"
    }
   ],
   "source": [
    "df_lite.iloc[:,2].plot(kind = \"bar\")\n",
    "plt.show()"
   ]
  },
  {
   "cell_type": "markdown",
   "metadata": {},
   "source": [
    "## 版本4 - executemany　　## cursor.executemany(sql, df.values.tolist())"
   ]
  },
  {
   "cell_type": "code",
   "execution_count": 63,
   "metadata": {},
   "outputs": [
    {
     "data": {
      "text/html": [
       "<div>\n",
       "<style>\n",
       "    .dataframe thead tr:only-child th {\n",
       "        text-align: right;\n",
       "    }\n",
       "\n",
       "    .dataframe thead th {\n",
       "        text-align: left;\n",
       "    }\n",
       "\n",
       "    .dataframe tbody tr th {\n",
       "        vertical-align: top;\n",
       "    }\n",
       "</style>\n",
       "<table border=\"1\" class=\"dataframe\">\n",
       "  <thead>\n",
       "    <tr style=\"text-align: right;\">\n",
       "      <th></th>\n",
       "      <th>年</th>\n",
       "      <th>月</th>\n",
       "      <th>日</th>\n",
       "      <th>時</th>\n",
       "      <th>分</th>\n",
       "      <th>縣市</th>\n",
       "      <th>區</th>\n",
       "      <th>GPS座標X</th>\n",
       "      <th>GPS座標Y</th>\n",
       "    </tr>\n",
       "  </thead>\n",
       "  <tbody>\n",
       "    <tr>\n",
       "      <th>0</th>\n",
       "      <td>2017</td>\n",
       "      <td>11</td>\n",
       "      <td>1</td>\n",
       "      <td>0</td>\n",
       "      <td>7</td>\n",
       "      <td>臺中市</td>\n",
       "      <td>霧峰區</td>\n",
       "      <td>24.0738</td>\n",
       "      <td>120.663</td>\n",
       "    </tr>\n",
       "    <tr>\n",
       "      <th>1</th>\n",
       "      <td>2017</td>\n",
       "      <td>11</td>\n",
       "      <td>1</td>\n",
       "      <td>0</td>\n",
       "      <td>17</td>\n",
       "      <td>臺中市</td>\n",
       "      <td>潭子區</td>\n",
       "      <td>24.2013</td>\n",
       "      <td>120.703</td>\n",
       "    </tr>\n",
       "    <tr>\n",
       "      <th>2</th>\n",
       "      <td>2017</td>\n",
       "      <td>11</td>\n",
       "      <td>1</td>\n",
       "      <td>1</td>\n",
       "      <td>0</td>\n",
       "      <td>臺中市</td>\n",
       "      <td>潭子區</td>\n",
       "      <td>24.1946</td>\n",
       "      <td>120.701</td>\n",
       "    </tr>\n",
       "    <tr>\n",
       "      <th>3</th>\n",
       "      <td>2017</td>\n",
       "      <td>11</td>\n",
       "      <td>1</td>\n",
       "      <td>1</td>\n",
       "      <td>36</td>\n",
       "      <td>臺中市</td>\n",
       "      <td>北屯區</td>\n",
       "      <td>24.1824</td>\n",
       "      <td>120.709</td>\n",
       "    </tr>\n",
       "    <tr>\n",
       "      <th>4</th>\n",
       "      <td>2017</td>\n",
       "      <td>11</td>\n",
       "      <td>1</td>\n",
       "      <td>1</td>\n",
       "      <td>50</td>\n",
       "      <td>臺中市</td>\n",
       "      <td>北屯區</td>\n",
       "      <td>24.1736</td>\n",
       "      <td>120.694</td>\n",
       "    </tr>\n",
       "  </tbody>\n",
       "</table>\n",
       "</div>"
      ],
      "text/plain": [
       "      年   月  日  時   分   縣市    區   GPS座標X   GPS座標Y\n",
       "0  2017  11  1  0   7  臺中市  霧峰區  24.0738  120.663\n",
       "1  2017  11  1  0  17  臺中市  潭子區  24.2013  120.703\n",
       "2  2017  11  1  1   0  臺中市  潭子區  24.1946  120.701\n",
       "3  2017  11  1  1  36  臺中市  北屯區  24.1824  120.709\n",
       "4  2017  11  1  1  50  臺中市  北屯區  24.1736  120.694"
      ]
     },
     "execution_count": 63,
     "metadata": {},
     "output_type": "execute_result"
    }
   ],
   "source": [
    "manydf = df[:5]\n",
    "manydf"
   ]
  },
  {
   "cell_type": "code",
   "execution_count": 105,
   "metadata": {},
   "outputs": [
    {
     "name": "stdout",
     "output_type": "stream",
     "text": [
      "create table exmany(\n",
      "年 int NULL,\n",
      "月 int NULL,\n",
      "日 int NULL,\n",
      "時 int NULL,\n",
      "分 int NULL,\n",
      "縣市 varchar(20) NULL,\n",
      "區 varchar(20) NULL,\n",
      "GPS座標X float NULL,\n",
      "GPS座標Y float NULL);\n"
     ]
    }
   ],
   "source": [
    "## create table 3版_最新版 *** 看第一列決定type\n",
    "q_tc = 'create table exmany('\n",
    "\n",
    "for k in range(1):\n",
    "    for i, j in zip(manydf.columns, manydf.dtypes):\n",
    "        if type(manydf.loc[0][i]) == str:\n",
    "            q_tc = (q_tc + '\\n{} varchar(20) NULL,').format(i)\n",
    "        elif type(manydf.loc[0][i]) == float:\n",
    "            q_tc = (q_tc + '\\n{} float NULL,').format(i)\n",
    "        else:\n",
    "            q_tc = (q_tc + '\\n{} int NULL,').format(i)\n",
    "            \n",
    "q_tc = q_tc[:-1] + ');'   ##去掉最後的 逗點\n",
    "print(q_tc)"
   ]
  },
  {
   "cell_type": "code",
   "execution_count": 106,
   "metadata": {},
   "outputs": [
    {
     "data": {
      "text/plain": [
       "[('exmany', ), ('tc', ), ('tc_lite', )]"
      ]
     },
     "execution_count": 106,
     "metadata": {},
     "output_type": "execute_result"
    }
   ],
   "source": [
    "#cursor.execute(\"use try;\")\n",
    "cursor.execute(\"drop table many;\")\n",
    "cursor.execute(q_tc)\n",
    "cursor.execute(\"show tables;\")\n",
    "cursor.fetchall()"
   ]
  },
  {
   "cell_type": "code",
   "execution_count": 144,
   "metadata": {},
   "outputs": [
    {
     "data": {
      "text/plain": [
       "'insert into exmany values(?, ?, ?, ?, ?, ?, ?, ?, ?)'"
      ]
     },
     "execution_count": 144,
     "metadata": {},
     "output_type": "execute_result"
    }
   ],
   "source": [
    "#####  最新版  ##########\n",
    "## executemany版 定義sql insert 語法\n",
    "## cursor.executemany(sql, df.values.tolist())\n",
    "def sql_insert(df, tablename):\n",
    "    sql_head = \"insert into \" + tablename + \" values(\"\n",
    "    sql_values = df.shape[1] * \"?, \"\n",
    "    sql_insert = sql_head + sql_values[:-2] + \")\"\n",
    "    return (str(sql_insert))\n",
    "\n",
    "sql_insert(manydf, \"exmany\")"
   ]
  },
  {
   "cell_type": "code",
   "execution_count": 136,
   "metadata": {},
   "outputs": [
    {
     "data": {
      "text/plain": [
       "[(10, )]"
      ]
     },
     "execution_count": 136,
     "metadata": {},
     "output_type": "execute_result"
    }
   ],
   "source": [
    "cursor.executemany(sql_insert(manydf, \"exmany\"), manydf.values.tolist())\n",
    "cursor.execute(\"select count(*) from exmany\")\n",
    "cursor.fetchall()"
   ]
  },
  {
   "cell_type": "markdown",
   "metadata": {},
   "source": [
    "### executemany 一版"
   ]
  },
  {
   "cell_type": "code",
   "execution_count": 147,
   "metadata": {},
   "outputs": [
    {
     "data": {
      "text/plain": [
       "'insert into exmany values(?, ?, ?, ?, ?, ?, ?, ?, ?)'"
      ]
     },
     "execution_count": 147,
     "metadata": {},
     "output_type": "execute_result"
    }
   ],
   "source": [
    "## executemany 一版  insert into語法\n",
    "sqli = \"insert into exmany values(\"\n",
    "sqlv = manydf.shape[1]*'?, ' \n",
    "sql_create = sqli + sqlv[:-2]+\")\"\n",
    "sql_create"
   ]
  },
  {
   "cell_type": "code",
   "execution_count": 153,
   "metadata": {},
   "outputs": [
    {
     "data": {
      "text/plain": [
       "[(2017, 11, 1, 0, 7, '?箔葉撣?', '?批陸?\\x80', 24.0738, 120.663),\n",
       " (2017, 11, 1, 0, 17, '?箔葉撣?', '瞏剖??\\x80', 24.2013, 120.703),\n",
       " (2017, 11, 1, 1, 0, '?箔葉撣?', '瞏剖??\\x80', 24.1946, 120.701),\n",
       " (2017, 11, 1, 1, 36, '?箔葉撣?', '?\\ue919扈?\\x80', 24.1824, 120.709),\n",
       " (2017, 11, 1, 1, 50, '?箔葉撣?', '?\\ue919扈?\\x80', 24.1736, 120.694)]"
      ]
     },
     "execution_count": 153,
     "metadata": {},
     "output_type": "execute_result"
    }
   ],
   "source": [
    "## executemany 一版 insert into\n",
    "cursor.executemany(sql_create, manydf.values.tolist())\n",
    "cursor.commit()\n",
    "cursor.execute(\"select * from exmany limit 5\")\n",
    "cursor.fetchall()"
   ]
  },
  {
   "cell_type": "code",
   "execution_count": null,
   "metadata": {
    "collapsed": true
   },
   "outputs": [],
   "source": []
  },
  {
   "cell_type": "code",
   "execution_count": null,
   "metadata": {
    "collapsed": true
   },
   "outputs": [],
   "source": []
  }
 ],
 "metadata": {
  "kernelspec": {
   "display_name": "Python 3",
   "language": "python",
   "name": "python3"
  },
  "language_info": {
   "codemirror_mode": {
    "name": "ipython",
    "version": 3
   },
   "file_extension": ".py",
   "mimetype": "text/x-python",
   "name": "python",
   "nbconvert_exporter": "python",
   "pygments_lexer": "ipython3",
   "version": "3.6.1"
  }
 },
 "nbformat": 4,
 "nbformat_minor": 2
}
